{
 "cells": [
  {
   "cell_type": "code",
   "execution_count": 160,
   "metadata": {},
   "outputs": [],
   "source": [
    "from pycoingecko import CoinGeckoAPI\n",
    "import datetime as dt\n",
    "import pandas as pd\n",
    "import pyodbc\n",
    "\n",
    "cg = CoinGeckoAPI()"
   ]
  },
  {
   "cell_type": "code",
   "execution_count": 161,
   "metadata": {},
   "outputs": [],
   "source": [
    "data = cg.get_price(ids='bitcoin', vs_currencies='usd', include_market_cap='true', include_24hr_vol='true', include_24hr_change='true', include_last_updated_at='true')\n",
    "coinList = cg.get_coins_list(include_platform = 'false')\n",
    "#dataHist1 = cg.get_coin_history_by_id(id='bitcoin',vs_currencies='usd',date='01-01-2022', localization='false')\n",
    "dataHist = cg.get_coin_market_chart_range_by_id(id='bitcoin',vs_currency='usd',from_timestamp='1641020400',to_timestamp='1648792799')\n",
    "#dataHist3 = cg.get_coin_market_chart_by_id(id='bitcoin',vs_currency='usd',days='180')\n",
    "#print(coinList)\n",
    "#print(dataHist)\n",
    "#print(dataHist3)"
   ]
  },
  {
   "cell_type": "code",
   "execution_count": 162,
   "metadata": {},
   "outputs": [
    {
     "data": {
      "text/plain": [
       "list"
      ]
     },
     "execution_count": 162,
     "metadata": {},
     "output_type": "execute_result"
    }
   ],
   "source": [
    "type(coinList)"
   ]
  },
  {
   "cell_type": "code",
   "execution_count": 163,
   "metadata": {},
   "outputs": [
    {
     "name": "stdout",
     "output_type": "stream",
     "text": [
      "                                   id    symbol                     name\n",
      "0                              01coin       zoc                   01coin\n",
      "1            0-5x-long-algorand-token  algohalf       0.5X Long Algorand\n",
      "2       0-5x-long-altcoin-index-token   althalf  0.5X Long Altcoin Index\n",
      "3      0-5x-long-ascendex-token-token   asdhalf       0.5X Long AscendEx\n",
      "4        0-5x-long-bitcoin-cash-token   bchhalf   0.5X Long Bitcoin Cash\n",
      "...                               ...       ...                      ...\n",
      "13390                        zynecoin       zyn                 Zynecoin\n",
      "13391                            zyro      zyro                     Zyro\n",
      "13392                           zyrri       zyr                    Zyrri\n",
      "13393                   zytara-dollar      zusd            Zytara Dollar\n",
      "13394                             zyx       zyx                      ZYX\n",
      "\n",
      "[13395 rows x 3 columns]\n"
     ]
    }
   ],
   "source": [
    "#Get historical market data include price, market cap, and 24h volume\n",
    "dcoinList = pd.DataFrame(coinList,\n",
    "                  columns=['id','symbol', 'name'])\n",
    "print(dcoinList)"
   ]
  },
  {
   "cell_type": "code",
   "execution_count": 164,
   "metadata": {},
   "outputs": [
    {
     "data": {
      "text/plain": [
       "dict"
      ]
     },
     "execution_count": 164,
     "metadata": {},
     "output_type": "execute_result"
    }
   ],
   "source": [
    "type(dataHist)"
   ]
  },
  {
   "cell_type": "code",
   "execution_count": 165,
   "metadata": {},
   "outputs": [],
   "source": [
    "\t#Get historical market data include price, market cap, and 24h volume\n",
    "ddataHist = dataHist [\"prices\"]\n",
    "#print(dataHist)"
   ]
  },
  {
   "cell_type": "code",
   "execution_count": 166,
   "metadata": {},
   "outputs": [
    {
     "name": "stdout",
     "output_type": "stream",
     "text": [
      "         timestampp      priceUSD\n",
      "0     1641020554453  47128.848463\n",
      "1     1641024444418  47292.778947\n",
      "2     1641028659948  47251.883398\n",
      "3     1641031594501  47223.103990\n",
      "4     1641035011717  46983.080704\n",
      "...             ...           ...\n",
      "2155  1648774924255  45557.572208\n",
      "2156  1648778560739  45086.747368\n",
      "2157  1648782128779  44347.204444\n",
      "2158  1648785652514  44543.548925\n",
      "2159  1648789316372  44719.711080\n",
      "\n",
      "[2160 rows x 2 columns]\n"
     ]
    }
   ],
   "source": [
    "ddataHist = pd.DataFrame(ddataHist, columns =['timestampp', 'priceUSD'])\n",
    "ddataHist.sort_values(by='timestampp') \n",
    "print(ddataHist)"
   ]
  },
  {
   "cell_type": "code",
   "execution_count": 167,
   "metadata": {},
   "outputs": [
    {
     "name": "stdout",
     "output_type": "stream",
     "text": [
      "         timestampp      priceUSD idcoin\n",
      "0     1641020554453  47128.848463    btc\n",
      "1     1641024444418  47292.778947    btc\n",
      "2     1641028659948  47251.883398    btc\n",
      "3     1641031594501  47223.103990    btc\n",
      "4     1641035011717  46983.080704    btc\n",
      "...             ...           ...    ...\n",
      "2155  1648774924255  45557.572208    btc\n",
      "2156  1648778560739  45086.747368    btc\n",
      "2157  1648782128779  44347.204444    btc\n",
      "2158  1648785652514  44543.548925    btc\n",
      "2159  1648789316372  44719.711080    btc\n",
      "\n",
      "[2160 rows x 3 columns]\n"
     ]
    }
   ],
   "source": [
    "ddataHist.insert(2, \"idcoin\", \"btc\", allow_duplicates=False)\n",
    "print(ddataHist)"
   ]
  },
  {
   "cell_type": "code",
   "execution_count": 168,
   "metadata": {},
   "outputs": [
    {
     "name": "stdout",
     "output_type": "stream",
     "text": [
      "timestampp      int64\n",
      "priceUSD      float64\n",
      "idcoin         object\n",
      "dtype: object\n"
     ]
    }
   ],
   "source": [
    "print(ddataHist.dtypes)"
   ]
  },
  {
   "cell_type": "code",
   "execution_count": 169,
   "metadata": {},
   "outputs": [
    {
     "name": "stdout",
     "output_type": "stream",
     "text": [
      "timestampp    object\n",
      "priceUSD      object\n",
      "idcoin        object\n",
      "dtype: object\n"
     ]
    }
   ],
   "source": [
    "# Convert entire DataFrame to string\n",
    "ddataHist=ddataHist.applymap(str)\n",
    "print(ddataHist.dtypes)"
   ]
  },
  {
   "cell_type": "code",
   "execution_count": null,
   "metadata": {},
   "outputs": [],
   "source": [
    "##################################################################"
   ]
  },
  {
   "cell_type": "code",
   "execution_count": 170,
   "metadata": {},
   "outputs": [],
   "source": [
    "conn = pyodbc.connect('Driver={SQL Server};'\n",
    "                      'Server=FREYJA\\SQLEXPRESS;'\n",
    "                      'Database=tradingCrypto;'\n",
    "                      'Trusted_Connection=yes;')\n",
    "\n",
    "cursor = conn.cursor()\n",
    "cursor.execute('SELECT * FROM [dbo].[cryptoPrices_raw]')\n",
    "\n",
    "for i in cursor:\n",
    "    print(i)"
   ]
  },
  {
   "cell_type": "code",
   "execution_count": 171,
   "metadata": {},
   "outputs": [],
   "source": [
    "# Insert Dataframe into SQL Server:\n",
    "for index, row in ddataHist.iterrows():\n",
    "     cursor.execute(\"INSERT INTO dbo.cryptoPrices_raw (timestampp,id_coin,priceUSD) values(?,?,?)\", row.timestampp, row.idcoin, row.priceUSD)\n",
    "conn.commit()\n",
    "cursor.close()\n",
    "# see total time to do insert\n",
    "#print(\"%s seconds ---\" % (time.time() - start_time))"
   ]
  },
  {
   "cell_type": "code",
   "execution_count": null,
   "metadata": {},
   "outputs": [],
   "source": []
  }
 ],
 "metadata": {
  "kernelspec": {
   "display_name": "Python 3.10.5 64-bit (windows store)",
   "language": "python",
   "name": "python3"
  },
  "language_info": {
   "codemirror_mode": {
    "name": "ipython",
    "version": 3
   },
   "file_extension": ".py",
   "mimetype": "text/x-python",
   "name": "python",
   "nbconvert_exporter": "python",
   "pygments_lexer": "ipython3",
   "version": "3.10.5"
  },
  "orig_nbformat": 4,
  "vscode": {
   "interpreter": {
    "hash": "8df2bc9ca070eacc10fd5af9ad29f64e878045ddb61b7f74710a69abfb335f72"
   }
  }
 },
 "nbformat": 4,
 "nbformat_minor": 2
}
