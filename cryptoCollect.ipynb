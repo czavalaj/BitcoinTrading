{
 "cells": [
  {
   "cell_type": "code",
   "execution_count": 91,
   "metadata": {},
   "outputs": [],
   "source": [
    "from pycoingecko import CoinGeckoAPI\n",
    "import datetime as dt\n",
    "import pandas as pd\n",
    "import pyodbc\n",
    "\n",
    "cg = CoinGeckoAPI()"
   ]
  },
  {
   "cell_type": "code",
   "execution_count": 92,
   "metadata": {},
   "outputs": [
    {
     "name": "stdout",
     "output_type": "stream",
     "text": [
      "{'solana': {'usd': 34.53, 'usd_market_cap': 11888845656.341112, 'usd_24h_vol': 1405853078.2650146, 'usd_24h_change': 5.081719402689311, 'last_updated_at': 1656645778}}\n"
     ]
    }
   ],
   "source": [
    "#### TEST\n",
    "data = cg.get_price(ids='solana', vs_currencies='usd', include_market_cap='true', include_24hr_vol='true', include_24hr_change='true', include_last_updated_at='true')\n",
    "#dataHist = cg.get_coin_market_chart_range_by_id(id='bitcoin',vs_currency='usd',from_timestamp='1641020400',to_timestamp='1648792799')\n",
    "#dataHist3 = cg.get_coin_market_chart_by_id(id='bitcoin',vs_currency='usd',days='180')\n",
    "print(data)"
   ]
  },
  {
   "cell_type": "code",
   "execution_count": 93,
   "metadata": {},
   "outputs": [
    {
     "name": "stderr",
     "output_type": "stream",
     "text": [
      "C:\\Users\\katze\\AppData\\Local\\Temp\\ipykernel_74528\\1229848024.py:10: FutureWarning: The frame.append method is deprecated and will be removed from pandas in a future version. Use pandas.concat instead.\n",
      "  dataHist3=dataHist3.append(dataHist,ignore_index=True)\n",
      "C:\\Users\\katze\\AppData\\Local\\Temp\\ipykernel_74528\\1229848024.py:10: FutureWarning: The frame.append method is deprecated and will be removed from pandas in a future version. Use pandas.concat instead.\n",
      "  dataHist3=dataHist3.append(dataHist,ignore_index=True)\n"
     ]
    },
    {
     "name": "stdout",
     "output_type": "stream",
     "text": [
      "         timestampp      priceUSD   idcoin\n",
      "0     1641020554453  47128.848463  bitcoin\n",
      "1     1641024444418  47292.778947  bitcoin\n",
      "2     1641028659948  47251.883398  bitcoin\n",
      "3     1641031594501  47223.103990  bitcoin\n",
      "4     1641035011717  46983.080704  bitcoin\n",
      "...             ...           ...      ...\n",
      "2155  1648774924255  45557.572208  bitcoin\n",
      "2156  1648778560739  45086.747368  bitcoin\n",
      "2157  1648782128779  44347.204444  bitcoin\n",
      "2158  1648785652514  44543.548925  bitcoin\n",
      "2159  1648789316372  44719.711080  bitcoin\n",
      "\n",
      "[2160 rows x 3 columns]\n",
      "         timestampp      priceUSD    idcoin\n",
      "0     1641020554453  47128.848463   bitcoin\n",
      "1     1641024444418  47292.778947   bitcoin\n",
      "2     1641028659948  47251.883398   bitcoin\n",
      "3     1641031594501  47223.103990   bitcoin\n",
      "4     1641035011717  46983.080704   bitcoin\n",
      "...             ...           ...       ...\n",
      "4314  1648774944046   3299.609756  ethereum\n",
      "4315  1648778506553   3267.096946  ethereum\n",
      "4316  1648782024309   3220.063718  ethereum\n",
      "4317  1648785681924   3244.704876  ethereum\n",
      "4318  1648789382823   3252.300250  ethereum\n",
      "\n",
      "[4319 rows x 3 columns]\n"
     ]
    },
    {
     "name": "stderr",
     "output_type": "stream",
     "text": [
      "C:\\Users\\katze\\AppData\\Local\\Temp\\ipykernel_74528\\1229848024.py:10: FutureWarning: The frame.append method is deprecated and will be removed from pandas in a future version. Use pandas.concat instead.\n",
      "  dataHist3=dataHist3.append(dataHist,ignore_index=True)\n"
     ]
    },
    {
     "name": "stdout",
     "output_type": "stream",
     "text": [
      "         timestampp      priceUSD   idcoin\n",
      "0     1641020554453  47128.848463  bitcoin\n",
      "1     1641024444418  47292.778947  bitcoin\n",
      "2     1641028659948  47251.883398  bitcoin\n",
      "3     1641031594501  47223.103990  bitcoin\n",
      "4     1641035011717  46983.080704  bitcoin\n",
      "...             ...           ...      ...\n",
      "6474  1648775207890   2111.844830    maker\n",
      "6475  1648778821472   2071.835995    maker\n",
      "6476  1648782417402   2033.947412    maker\n",
      "6477  1648786029311   2062.610767    maker\n",
      "6478  1648789602261   2059.319285    maker\n",
      "\n",
      "[6479 rows x 3 columns]\n",
      "         timestampp      priceUSD   idcoin\n",
      "0     1641020554453  47128.848463  bitcoin\n",
      "1     1641024444418  47292.778947  bitcoin\n",
      "2     1641028659948  47251.883398  bitcoin\n",
      "3     1641031594501  47223.103990  bitcoin\n",
      "4     1641035011717  46983.080704  bitcoin\n",
      "...             ...           ...      ...\n",
      "8634  1648774919232    124.446054   solana\n",
      "8635  1648778527504    121.895624   solana\n",
      "8636  1648782181581    118.668438   solana\n",
      "8637  1648785697554    120.443084   solana\n",
      "8638  1648789281568    121.718157   solana\n",
      "\n",
      "[8639 rows x 3 columns]\n",
      "          timestampp      priceUSD   idcoin\n",
      "0      1641020554453  47128.848463  bitcoin\n",
      "1      1641024444418  47292.778947  bitcoin\n",
      "2      1641028659948  47251.883398  bitcoin\n",
      "3      1641031594501  47223.103990  bitcoin\n",
      "4      1641035011717  46983.080704  bitcoin\n",
      "...              ...           ...      ...\n",
      "10792  1648774916773    216.931351     aave\n",
      "10793  1648778444415    210.760224     aave\n",
      "10794  1648782022535    209.194691     aave\n",
      "10795  1648785642123    216.039156     aave\n",
      "10796  1648789297353    219.784522     aave\n",
      "\n",
      "[10797 rows x 3 columns]\n"
     ]
    },
    {
     "name": "stderr",
     "output_type": "stream",
     "text": [
      "C:\\Users\\katze\\AppData\\Local\\Temp\\ipykernel_74528\\1229848024.py:10: FutureWarning: The frame.append method is deprecated and will be removed from pandas in a future version. Use pandas.concat instead.\n",
      "  dataHist3=dataHist3.append(dataHist,ignore_index=True)\n",
      "C:\\Users\\katze\\AppData\\Local\\Temp\\ipykernel_74528\\1229848024.py:10: FutureWarning: The frame.append method is deprecated and will be removed from pandas in a future version. Use pandas.concat instead.\n",
      "  dataHist3=dataHist3.append(dataHist,ignore_index=True)\n"
     ]
    }
   ],
   "source": [
    "# Apply a loop to extract the 3 differents crypto \n",
    "crypto3 = ['bitcoin','ethereum','maker','solana','aave']\n",
    "dataHist3=pd.DataFrame()\n",
    "for i in crypto3:\n",
    "    dataHist= cg.get_coin_market_chart_range_by_id(id=i,vs_currency='usd',from_timestamp='1641020400',to_timestamp='1648792799')\n",
    "    dataHist = dataHist [\"prices\"]\n",
    "    dataHist = pd.DataFrame(dataHist, columns =['timestampp', 'priceUSD']).sort_values(by='timestampp') \n",
    "    dataHist.sort_values(by='timestampp') \n",
    "    dataHist.insert(2, \"idcoin\", i, allow_duplicates=False)\n",
    "    dataHist3=dataHist3.append(dataHist,ignore_index=True)\n",
    "    print(dataHist3)"
   ]
  },
  {
   "cell_type": "code",
   "execution_count": 94,
   "metadata": {},
   "outputs": [
    {
     "name": "stdout",
     "output_type": "stream",
     "text": [
      "          timestampp      priceUSD   idcoin\n",
      "0      1641020554453  47128.848463  bitcoin\n",
      "1      1641024444418  47292.778947  bitcoin\n",
      "2      1641028659948  47251.883398  bitcoin\n",
      "3      1641031594501  47223.103990  bitcoin\n",
      "4      1641035011717  46983.080704  bitcoin\n",
      "...              ...           ...      ...\n",
      "10792  1648774916773    216.931351     aave\n",
      "10793  1648778444415    210.760224     aave\n",
      "10794  1648782022535    209.194691     aave\n",
      "10795  1648785642123    216.039156     aave\n",
      "10796  1648789297353    219.784522     aave\n",
      "\n",
      "[10797 rows x 3 columns]\n"
     ]
    }
   ],
   "source": [
    "print(dataHist3)"
   ]
  },
  {
   "cell_type": "code",
   "execution_count": 95,
   "metadata": {},
   "outputs": [
    {
     "name": "stdout",
     "output_type": "stream",
     "text": [
      "timestampp    object\n",
      "priceUSD      object\n",
      "idcoin        object\n",
      "dtype: object\n"
     ]
    }
   ],
   "source": [
    "# Convert entire DataFrame to string\n",
    "dataHist3=dataHist3.applymap(str)\n",
    "print(dataHist3.dtypes)"
   ]
  },
  {
   "cell_type": "code",
   "execution_count": 96,
   "metadata": {},
   "outputs": [],
   "source": [
    "conn = pyodbc.connect('Driver={SQL Server};'\n",
    "                      'Server=FREYJA\\SQLEXPRESS;'\n",
    "                      'Database=tradingCrypto;'\n",
    "                      'Trusted_Connection=yes;')\n",
    "\n",
    "cursor = conn.cursor()\n",
    "cursor.execute('SELECT * FROM [dbo].[cryptoPrices_raw]')\n",
    "\n",
    "for i in cursor:\n",
    "    print(i)"
   ]
  },
  {
   "cell_type": "code",
   "execution_count": 97,
   "metadata": {},
   "outputs": [],
   "source": [
    "# Insert Dataframe into SQL Server:\n",
    "for index, row in dataHist3.iterrows():\n",
    "     cursor.execute(\"INSERT INTO dbo.cryptoPrices_raw (timestampp,id_coin,priceUSD) values(?,?,?)\", row.timestampp, row.idcoin, row.priceUSD)\n",
    "conn.commit()\n",
    "cursor.close()"
   ]
  }
 ],
 "metadata": {
  "kernelspec": {
   "display_name": "Python 3.10.5 64-bit (windows store)",
   "language": "python",
   "name": "python3"
  },
  "language_info": {
   "codemirror_mode": {
    "name": "ipython",
    "version": 3
   },
   "file_extension": ".py",
   "mimetype": "text/x-python",
   "name": "python",
   "nbconvert_exporter": "python",
   "pygments_lexer": "ipython3",
   "version": "3.10.5"
  },
  "orig_nbformat": 4,
  "vscode": {
   "interpreter": {
    "hash": "8df2bc9ca070eacc10fd5af9ad29f64e878045ddb61b7f74710a69abfb335f72"
   }
  }
 },
 "nbformat": 4,
 "nbformat_minor": 2
}
